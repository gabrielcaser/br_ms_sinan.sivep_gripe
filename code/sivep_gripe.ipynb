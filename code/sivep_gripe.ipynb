{
 "cells": [
  {
   "cell_type": "markdown",
   "id": "aa4a760d",
   "metadata": {},
   "source": [
    "# Configurando ambiente"
   ]
  },
  {
   "cell_type": "code",
   "execution_count": 2,
   "id": "6f1a41ac",
   "metadata": {},
   "outputs": [],
   "source": [
    "import pandas as pd\n",
    "import basedosdados as bd"
   ]
  },
  {
   "cell_type": "markdown",
   "id": "8542a40c",
   "metadata": {},
   "source": [
    "# SIVEP-Gripe"
   ]
  },
  {
   "cell_type": "markdown",
   "id": "81ecc314",
   "metadata": {},
   "source": [
    "- A cobertura temporal da base é 2019(1)2022"
   ]
  },
  {
   "cell_type": "code",
   "execution_count": null,
   "id": "121b8df3",
   "metadata": {},
   "outputs": [],
   "source": []
  },
  {
   "cell_type": "code",
   "execution_count": null,
   "id": "a0c2051d",
   "metadata": {},
   "outputs": [],
   "source": []
  }
 ],
 "metadata": {
  "kernelspec": {
   "display_name": "Python 3 (ipykernel)",
   "language": "python",
   "name": "python3"
  },
  "language_info": {
   "codemirror_mode": {
    "name": "ipython",
    "version": 3
   },
   "file_extension": ".py",
   "mimetype": "text/x-python",
   "name": "python",
   "nbconvert_exporter": "python",
   "pygments_lexer": "ipython3",
   "version": "3.9.12"
  }
 },
 "nbformat": 4,
 "nbformat_minor": 5
}
